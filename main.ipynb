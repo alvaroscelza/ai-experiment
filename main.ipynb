{
 "cells": [
  {
   "metadata": {},
   "cell_type": "markdown",
   "source": [
    "# Start\n",
    "First step is to gather the data from DB."
   ],
   "id": "7fb5efb5360f5a28"
  },
  {
   "metadata": {
    "SqlCellData": {
     "variableName$1": "df_sql"
    }
   },
   "cell_type": "code",
   "source": [
    "%%sql\n",
    "select translation_title, translation_text, score\n",
    "from hotel_reputation;"
   ],
   "id": "41a81c498fa147ad",
   "outputs": [],
   "execution_count": null
  },
  {
   "metadata": {},
   "cell_type": "markdown",
   "source": "We then load the file to start working with. I chose JSON instead of CSV because we are working with tests, which have commas and quotes and other symbols as well, so it would be difficult for CSV to know how to separate the columns without having conflicts with the actual contents. Also, JSON is easier to look at for humans. The downside is that it weights roughly 20 MB more and tjus it's also slightly slower to load and occupies slightly more memory when loaded.",
   "id": "5e974557e2423de1"
  },
  {
   "cell_type": "code",
   "id": "initial_id",
   "metadata": {
    "collapsed": true
   },
   "source": [
    "import pandas as pd\n",
    "\n",
    "reviews_df = pd.read_json('reviews.json')\n",
    "pd.set_option('display.max_colwidth', None)\n",
    "print(reviews_df.head())"
   ],
   "outputs": [],
   "execution_count": null
  },
  {
   "metadata": {},
   "cell_type": "markdown",
   "source": [
    "Next we need to clean the data:\n",
    "  - We have rows with only title: `Very good,,4.0`\n",
    "  - We have rows with empty spaces at the end (and maybe the beginning): `😀 - The hotel is located in the best location, 10 meters from the arena, amazing! Top staff and an absolutely delicious breakfast buffet. The rooms are very clean and cleaned daily. The hotel also offers a car park service.      `\n",
    "  - Some rows have `null` as translation_text (some might have translation_title as null as well or even both).\n",
    "  - We have scores not boxed in ["
   ],
   "id": "7fd1e07634c7a069"
  }
 ],
 "metadata": {
  "kernelspec": {
   "display_name": "Python 3",
   "language": "python",
   "name": "python3"
  },
  "language_info": {
   "codemirror_mode": {
    "name": "ipython",
    "version": 2
   },
   "file_extension": ".py",
   "mimetype": "text/x-python",
   "name": "python",
   "nbconvert_exporter": "python",
   "pygments_lexer": "ipython2",
   "version": "2.7.6"
  }
 },
 "nbformat": 4,
 "nbformat_minor": 5
}
