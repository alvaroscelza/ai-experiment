{
 "cells": [
  {
   "metadata": {},
   "cell_type": "markdown",
   "source": [
    "# Hotel's Reviews Sentiment Analysis\n",
    "## Gathering Data\n",
    "First step is to gather the data from DB.\n",
    "```\n",
    "select translation_title, translation_text, score\n",
    "from hotel_reputation;\n",
    "```\n",
    "\n",
    "We then load the file to start working with. I chose JSON instead of CSV because we are working with tests, which have commas and quotes and other symbols as well, so it would be difficult for CSV to know how to separate the columns without having conflicts with the actual contents. Also, JSON is easier to look at for humans. The downside is that it weights roughly 20 MB more and tjus it's also slightly slower to load and occupies slightly more memory when loaded."
   ],
   "id": "7fb5efb5360f5a28"
  },
  {
   "cell_type": "code",
   "id": "initial_id",
   "metadata": {
    "collapsed": true,
    "ExecuteTime": {
     "end_time": "2024-08-02T01:47:17.395294Z",
     "start_time": "2024-08-02T01:47:16.342459Z"
    }
   },
   "source": [
    "import pandas as pd\n",
    "\n",
    "reviews_df = pd.read_json('reviews.json')\n",
    "pd.set_option('display.max_colwidth', None)\n",
    "print(reviews_df.head())"
   ],
   "outputs": [
    {
     "name": "stdout",
     "output_type": "stream",
     "text": [
      "                               translation_title  \\\n",
      "0                                    Exceptional   \n",
      "1           It doesn't get any better than that!   \n",
      "2                                    Exceptional   \n",
      "3                                      Excellent   \n",
      "4  Well situated for the station and city centre   \n",
      "\n",
      "                                                                                                                                                                                                                                                                                                                                                                                                                                                                                                     translation_text  \\\n",
      "0                                                                                                                                                                                                                                                                                  😀 - The hotel is located in the best location, 10 meters from the arena, amazing! Top staff and an absolutely delicious breakfast buffet. The rooms are very clean and cleaned daily. The hotel also offers a car park service.      \n",
      "1                                                                                                                                                                                                                                                                                                                                                                                                                                                                                         😀 - total location service    \n",
      "2                                                                                                                                                                                                                                                                                                                                                                                                                                    😀 - All the staff is friendly, hospitable, helpful, professional and very kind.    \n",
      "3                          The hotel very nice and the staff nice, the breakfast great, but I had chosen it for the spa and on arrival they told me that it was closed ... they had to specify it in the services because I would have chosen another hotel, also the paid parking at 25 euros 24 hours I would say that it is a lot, I had understood that it had parking for customers but free. Nice but it wasn't what I was looking for and it wasn't specified, especially the spa which was fundamental to me.   \n",
      "4  You come in from the station, you're there in five, on foot. Also a bit neared to the airport than the city centre places. Reasonably priced. You get a large room and a VERY comfortable large bed. Shower has decent power and bath is decent size. Whole place is kept very clean. Nice bar which is open late and charges restaurant wine prices not conference hotel prices. Great breakfast choice. I saw the restaurant menu - everything was v expensive, but who needs to eat in their hotel in Bologna?!   \n",
      "\n",
      "   score  \n",
      "0    5.0  \n",
      "1    5.0  \n",
      "2    5.0  \n",
      "3    3.0  \n",
      "4    5.0  \n"
     ]
    }
   ],
   "execution_count": 257
  },
  {
   "metadata": {},
   "cell_type": "markdown",
   "source": [
    "## Data Processing\n",
    "### Combining Title and Text\n",
    "Next we will combine the title and text columns into a single one, so we can work with the text as a whole."
   ],
   "id": "82d92c2d38bc97bb"
  },
  {
   "metadata": {
    "ExecuteTime": {
     "end_time": "2024-08-02T01:47:19.362981Z",
     "start_time": "2024-08-02T01:47:17.396299Z"
    }
   },
   "cell_type": "code",
   "source": [
    "def combine_texts(title, text):\n",
    "    if pd.isna(title) and pd.isna(text):\n",
    "        return ''\n",
    "    elif pd.isna(text) or text.strip() == '':\n",
    "        return title\n",
    "    elif pd.isna(title) or title.strip() == '':\n",
    "        return text\n",
    "    else:\n",
    "        return f\"{title} {text}\"\n",
    "\n",
    "reviews_df['combined_text'] = reviews_df.apply(lambda row: combine_texts(row['translation_title'], row['translation_text']), axis=1)\n",
    "reviews_df.drop(columns=['translation_title', 'translation_text'], inplace=True)\n",
    "print(reviews_df.head())"
   ],
   "id": "88f22052b6c6c46f",
   "outputs": [
    {
     "name": "stdout",
     "output_type": "stream",
     "text": [
      "   score  \\\n",
      "0    5.0   \n",
      "1    5.0   \n",
      "2    5.0   \n",
      "3    3.0   \n",
      "4    5.0   \n",
      "\n",
      "                                                                                                                                                                                                                                                                                                                                                                                                                                                                                                                                                      combined_text  \n",
      "0                                                                                                                                                                                                                                                                                                                    Exceptional 😀 - The hotel is located in the best location, 10 meters from the arena, amazing! Top staff and an absolutely delicious breakfast buffet. The rooms are very clean and cleaned daily. The hotel also offers a car park service.     \n",
      "1                                                                                                                                                                                                                                                                                                                                                                                                                                                                                                  It doesn't get any better than that! 😀 - total location service   \n",
      "2                                                                                                                                                                                                                                                                                                                                                                                                                                                                      Exceptional 😀 - All the staff is friendly, hospitable, helpful, professional and very kind.   \n",
      "3                                                              Excellent The hotel very nice and the staff nice, the breakfast great, but I had chosen it for the spa and on arrival they told me that it was closed ... they had to specify it in the services because I would have chosen another hotel, also the paid parking at 25 euros 24 hours I would say that it is a lot, I had understood that it had parking for customers but free. Nice but it wasn't what I was looking for and it wasn't specified, especially the spa which was fundamental to me.  \n",
      "4  Well situated for the station and city centre You come in from the station, you're there in five, on foot. Also a bit neared to the airport than the city centre places. Reasonably priced. You get a large room and a VERY comfortable large bed. Shower has decent power and bath is decent size. Whole place is kept very clean. Nice bar which is open late and charges restaurant wine prices not conference hotel prices. Great breakfast choice. I saw the restaurant menu - everything was v expensive, but who needs to eat in their hotel in Bologna?!  \n"
     ]
    }
   ],
   "execution_count": 258
  },
  {
   "metadata": {},
   "cell_type": "markdown",
   "source": [
    "### Cleaning Data\n",
    "\n",
    "#### Removing rows with combined_text empty\n",
    "Some rows didn't have nor title nor text, so we have `null` values in the `combined_text` column:"
   ],
   "id": "7fd1e07634c7a069"
  },
  {
   "metadata": {
    "ExecuteTime": {
     "end_time": "2024-08-02T01:47:19.408612Z",
     "start_time": "2024-08-02T01:47:19.362981Z"
    }
   },
   "cell_type": "code",
   "source": [
    "print('Rows with combined_text empty:')\n",
    "print(len(reviews_df[reviews_df['combined_text'] == '']))"
   ],
   "id": "d6044e42d4710255",
   "outputs": [
    {
     "name": "stdout",
     "output_type": "stream",
     "text": [
      "Rows with combined_text empty:\n",
      "1028\n"
     ]
    }
   ],
   "execution_count": 259
  },
  {
   "metadata": {},
   "cell_type": "markdown",
   "source": "We will remove these rows, as they don't bring any value to our analysis.",
   "id": "ac8be2a89b223a4d"
  },
  {
   "metadata": {
    "ExecuteTime": {
     "end_time": "2024-08-02T01:47:19.475179Z",
     "start_time": "2024-08-02T01:47:19.409619Z"
    }
   },
   "cell_type": "code",
   "source": [
    "print('Length before removing rows with combined_text empty:', len(reviews_df))\n",
    "reviews_df = reviews_df[reviews_df['combined_text'] != '']\n",
    "print('Length after removing rows with combined_text empty:', len(reviews_df))"
   ],
   "id": "1b13be5c1ce667e0",
   "outputs": [
    {
     "name": "stdout",
     "output_type": "stream",
     "text": [
      "Length before removing rows with combined_text empty: 371448\n",
      "Length after removing rows with combined_text empty: 370420\n"
     ]
    }
   ],
   "execution_count": 260
  },
  {
   "metadata": {},
   "cell_type": "markdown",
   "source": [
    "#### Fixing rows with scores not boxed in [1, 2, 3, 4, 5]\n",
    "Some rows had scores not boxed in [1, 2, 3, 4, 5]:"
   ],
   "id": "510ba6090167688c"
  },
  {
   "metadata": {
    "ExecuteTime": {
     "end_time": "2024-08-02T01:47:19.516971Z",
     "start_time": "2024-08-02T01:47:19.475179Z"
    }
   },
   "cell_type": "code",
   "source": [
    "print('Scores not boxed in [1, 2, 3, 4, 5]:')\n",
    "print(len(reviews_df[~reviews_df['score'].isin([1, 2, 3, 4, 5])]))\n",
    "print('-' * 50)\n",
    "print('Value counts:')\n",
    "print(reviews_df['score'].value_counts())"
   ],
   "id": "e6645654b34c9909",
   "outputs": [
    {
     "name": "stdout",
     "output_type": "stream",
     "text": [
      "Scores not boxed in [1, 2, 3, 4, 5]:\n",
      "110583\n",
      "--------------------------------------------------\n",
      "Value counts:\n",
      "score\n",
      "5.00    119323\n",
      "4.00    103652\n",
      "4.50     58790\n",
      "3.50     32841\n",
      "3.00     23539\n",
      "2.50      8397\n",
      "2.00      8327\n",
      "1.00      4996\n",
      "1.50      2694\n",
      "0.50      2340\n",
      "4.80      1003\n",
      "4.60       933\n",
      "4.40       693\n",
      "4.15       657\n",
      "3.75       591\n",
      "3.95       466\n",
      "3.55       318\n",
      "3.35       246\n",
      "2.90       169\n",
      "3.10       152\n",
      "2.70        87\n",
      "2.30        55\n",
      "2.10        44\n",
      "1.90        27\n",
      "1.65        26\n",
      "4.75        17\n",
      "1.25        16\n",
      "1.45         9\n",
      "4.25         4\n",
      "3.25         3\n",
      "2.75         1\n",
      "3.45         1\n",
      "1.75         1\n",
      "4.05         1\n",
      "4.70         1\n",
      "Name: count, dtype: int64\n"
     ]
    }
   ],
   "execution_count": 261
  },
  {
   "metadata": {},
   "cell_type": "markdown",
   "source": [
    "We will not remove this rows, as their data is still useful, instead, we will think of a way to box them in one of the 5 categories.\n",
    "A side investigation demonstrated that the best strategy is to ceil them (refer to the previous Google collab notebooks)."
   ],
   "id": "5cab93d77811fc0c"
  },
  {
   "metadata": {
    "ExecuteTime": {
     "end_time": "2024-08-02T01:47:19.551346Z",
     "start_time": "2024-08-02T01:47:19.517977Z"
    }
   },
   "cell_type": "code",
   "source": [
    "import numpy as np\n",
    "\n",
    "reviews_df['score'] = reviews_df['score'].apply(np.ceil)\n",
    "print('Scores not boxed in [1, 2, 3, 4, 5]:')\n",
    "print(len(reviews_df[~reviews_df['score'].isin([1, 2, 3, 4, 5])]))\n",
    "print('-' * 50)\n",
    "print('Value counts:')\n",
    "print(reviews_df['score'].value_counts())"
   ],
   "id": "ed6419420cbf355e",
   "outputs": [
    {
     "name": "stdout",
     "output_type": "stream",
     "text": [
      "Scores not boxed in [1, 2, 3, 4, 5]:\n",
      "0\n",
      "--------------------------------------------------\n",
      "Value counts:\n",
      "score\n",
      "5.0    181422\n",
      "4.0    138270\n",
      "3.0     32292\n",
      "2.0     11100\n",
      "1.0      7336\n",
      "Name: count, dtype: int64\n"
     ]
    }
   ],
   "execution_count": 262
  },
  {
   "metadata": {},
   "cell_type": "markdown",
   "source": [
    "#### Fixing rows with trailing and leading spaces\n",
    "We have rows with trailing and leading spaces in the `combined_text` column:"
   ],
   "id": "55fb19c60ae21251"
  },
  {
   "metadata": {
    "ExecuteTime": {
     "end_time": "2024-08-02T01:47:21.752098Z",
     "start_time": "2024-08-02T01:47:19.552351Z"
    }
   },
   "cell_type": "code",
   "source": [
    "print('Rows with trailing and leading spaces in the combined_text column:')\n",
    "print(len(reviews_df[reviews_df['combined_text'].str.contains('^\\s+|\\s+$')]))"
   ],
   "id": "781fc8df893d876",
   "outputs": [
    {
     "name": "stdout",
     "output_type": "stream",
     "text": [
      "Rows with trailing and leading spaces in the combined_text column:\n",
      "47101\n"
     ]
    }
   ],
   "execution_count": 263
  },
  {
   "metadata": {},
   "cell_type": "markdown",
   "source": "We will remove these spaces.",
   "id": "e3e8b053572af736"
  },
  {
   "metadata": {
    "ExecuteTime": {
     "end_time": "2024-08-02T01:47:24.012443Z",
     "start_time": "2024-08-02T01:47:21.753102Z"
    }
   },
   "cell_type": "code",
   "source": [
    "reviews_df['combined_text'] = reviews_df['combined_text'].str.strip()\n",
    "print('Rows with trailing and leading spaces in the combined_text column:')\n",
    "print(len(reviews_df[reviews_df['combined_text'].str.contains('^\\s+|\\s+$')]))"
   ],
   "id": "6466ec99bb03dffc",
   "outputs": [
    {
     "name": "stdout",
     "output_type": "stream",
     "text": [
      "Rows with trailing and leading spaces in the combined_text column:\n",
      "0\n"
     ]
    }
   ],
   "execution_count": 264
  },
  {
   "metadata": {},
   "cell_type": "markdown",
   "source": "## Data Splitting",
   "id": "27247dbfb40e6cb9"
  },
  {
   "metadata": {
    "ExecuteTime": {
     "end_time": "2024-08-02T01:47:24.058729Z",
     "start_time": "2024-08-02T01:47:24.013448Z"
    }
   },
   "cell_type": "code",
   "source": [
    "from sklearn.model_selection import train_test_split\n",
    "\n",
    "X = reviews_df['combined_text']\n",
    "y = reviews_df['score']\n",
    "X_train, X_test, y_train, y_test = train_test_split(X, y, test_size=0.2, random_state=42)"
   ],
   "id": "726315499227ef83",
   "outputs": [],
   "execution_count": 265
  },
  {
   "metadata": {},
   "cell_type": "markdown",
   "source": "## Data Vectorization",
   "id": "4686afabaa4b07c6"
  },
  {
   "metadata": {
    "ExecuteTime": {
     "end_time": "2024-08-02T01:47:31.088558Z",
     "start_time": "2024-08-02T01:47:24.059680Z"
    }
   },
   "cell_type": "code",
   "source": [
    "from sklearn.feature_extraction.text import CountVectorizer\n",
    "\n",
    "vectorizer = CountVectorizer()\n",
    "X_train_vectorized = vectorizer.fit_transform(X_train)\n",
    "X_test_vectorized = vectorizer.transform(X_test)"
   ],
   "id": "3e6522e0f1b85c97",
   "outputs": [],
   "execution_count": 266
  },
  {
   "metadata": {},
   "cell_type": "markdown",
   "source": "## Model Training",
   "id": "3ed415ee199b8c41"
  },
  {
   "metadata": {
    "ExecuteTime": {
     "end_time": "2024-08-02T01:50:45.935012Z",
     "start_time": "2024-08-02T01:47:31.089690Z"
    }
   },
   "cell_type": "code",
   "source": [
    "from sklearn.linear_model import LogisticRegression\n",
    "\n",
    "model = LogisticRegression(max_iter=1500)\n",
    "model.fit(X_train_vectorized, y_train)\n"
   ],
   "id": "98ad93b4b4997fd2",
   "outputs": [
    {
     "name": "stderr",
     "output_type": "stream",
     "text": [
      "C:\\Users\\Alvar\\OneDrive\\Escritorio\\ai-experiment\\venv\\Lib\\site-packages\\sklearn\\linear_model\\_logistic.py:469: ConvergenceWarning: lbfgs failed to converge (status=1):\n",
      "STOP: TOTAL NO. of ITERATIONS REACHED LIMIT.\n",
      "\n",
      "Increase the number of iterations (max_iter) or scale the data as shown in:\n",
      "    https://scikit-learn.org/stable/modules/preprocessing.html\n",
      "Please also refer to the documentation for alternative solver options:\n",
      "    https://scikit-learn.org/stable/modules/linear_model.html#logistic-regression\n",
      "  n_iter_i = _check_optimize_result(\n"
     ]
    },
    {
     "data": {
      "text/plain": [
       "LogisticRegression(max_iter=1500)"
      ],
      "text/html": [
       "<style>#sk-container-id-10 {\n",
       "  /* Definition of color scheme common for light and dark mode */\n",
       "  --sklearn-color-text: black;\n",
       "  --sklearn-color-line: gray;\n",
       "  /* Definition of color scheme for unfitted estimators */\n",
       "  --sklearn-color-unfitted-level-0: #fff5e6;\n",
       "  --sklearn-color-unfitted-level-1: #f6e4d2;\n",
       "  --sklearn-color-unfitted-level-2: #ffe0b3;\n",
       "  --sklearn-color-unfitted-level-3: chocolate;\n",
       "  /* Definition of color scheme for fitted estimators */\n",
       "  --sklearn-color-fitted-level-0: #f0f8ff;\n",
       "  --sklearn-color-fitted-level-1: #d4ebff;\n",
       "  --sklearn-color-fitted-level-2: #b3dbfd;\n",
       "  --sklearn-color-fitted-level-3: cornflowerblue;\n",
       "\n",
       "  /* Specific color for light theme */\n",
       "  --sklearn-color-text-on-default-background: var(--sg-text-color, var(--theme-code-foreground, var(--jp-content-font-color1, black)));\n",
       "  --sklearn-color-background: var(--sg-background-color, var(--theme-background, var(--jp-layout-color0, white)));\n",
       "  --sklearn-color-border-box: var(--sg-text-color, var(--theme-code-foreground, var(--jp-content-font-color1, black)));\n",
       "  --sklearn-color-icon: #696969;\n",
       "\n",
       "  @media (prefers-color-scheme: dark) {\n",
       "    /* Redefinition of color scheme for dark theme */\n",
       "    --sklearn-color-text-on-default-background: var(--sg-text-color, var(--theme-code-foreground, var(--jp-content-font-color1, white)));\n",
       "    --sklearn-color-background: var(--sg-background-color, var(--theme-background, var(--jp-layout-color0, #111)));\n",
       "    --sklearn-color-border-box: var(--sg-text-color, var(--theme-code-foreground, var(--jp-content-font-color1, white)));\n",
       "    --sklearn-color-icon: #878787;\n",
       "  }\n",
       "}\n",
       "\n",
       "#sk-container-id-10 {\n",
       "  color: var(--sklearn-color-text);\n",
       "}\n",
       "\n",
       "#sk-container-id-10 pre {\n",
       "  padding: 0;\n",
       "}\n",
       "\n",
       "#sk-container-id-10 input.sk-hidden--visually {\n",
       "  border: 0;\n",
       "  clip: rect(1px 1px 1px 1px);\n",
       "  clip: rect(1px, 1px, 1px, 1px);\n",
       "  height: 1px;\n",
       "  margin: -1px;\n",
       "  overflow: hidden;\n",
       "  padding: 0;\n",
       "  position: absolute;\n",
       "  width: 1px;\n",
       "}\n",
       "\n",
       "#sk-container-id-10 div.sk-dashed-wrapped {\n",
       "  border: 1px dashed var(--sklearn-color-line);\n",
       "  margin: 0 0.4em 0.5em 0.4em;\n",
       "  box-sizing: border-box;\n",
       "  padding-bottom: 0.4em;\n",
       "  background-color: var(--sklearn-color-background);\n",
       "}\n",
       "\n",
       "#sk-container-id-10 div.sk-container {\n",
       "  /* jupyter's `normalize.less` sets `[hidden] { display: none; }`\n",
       "     but bootstrap.min.css set `[hidden] { display: none !important; }`\n",
       "     so we also need the `!important` here to be able to override the\n",
       "     default hidden behavior on the sphinx rendered scikit-learn.org.\n",
       "     See: https://github.com/scikit-learn/scikit-learn/issues/21755 */\n",
       "  display: inline-block !important;\n",
       "  position: relative;\n",
       "}\n",
       "\n",
       "#sk-container-id-10 div.sk-text-repr-fallback {\n",
       "  display: none;\n",
       "}\n",
       "\n",
       "div.sk-parallel-item,\n",
       "div.sk-serial,\n",
       "div.sk-item {\n",
       "  /* draw centered vertical line to link estimators */\n",
       "  background-image: linear-gradient(var(--sklearn-color-text-on-default-background), var(--sklearn-color-text-on-default-background));\n",
       "  background-size: 2px 100%;\n",
       "  background-repeat: no-repeat;\n",
       "  background-position: center center;\n",
       "}\n",
       "\n",
       "/* Parallel-specific style estimator block */\n",
       "\n",
       "#sk-container-id-10 div.sk-parallel-item::after {\n",
       "  content: \"\";\n",
       "  width: 100%;\n",
       "  border-bottom: 2px solid var(--sklearn-color-text-on-default-background);\n",
       "  flex-grow: 1;\n",
       "}\n",
       "\n",
       "#sk-container-id-10 div.sk-parallel {\n",
       "  display: flex;\n",
       "  align-items: stretch;\n",
       "  justify-content: center;\n",
       "  background-color: var(--sklearn-color-background);\n",
       "  position: relative;\n",
       "}\n",
       "\n",
       "#sk-container-id-10 div.sk-parallel-item {\n",
       "  display: flex;\n",
       "  flex-direction: column;\n",
       "}\n",
       "\n",
       "#sk-container-id-10 div.sk-parallel-item:first-child::after {\n",
       "  align-self: flex-end;\n",
       "  width: 50%;\n",
       "}\n",
       "\n",
       "#sk-container-id-10 div.sk-parallel-item:last-child::after {\n",
       "  align-self: flex-start;\n",
       "  width: 50%;\n",
       "}\n",
       "\n",
       "#sk-container-id-10 div.sk-parallel-item:only-child::after {\n",
       "  width: 0;\n",
       "}\n",
       "\n",
       "/* Serial-specific style estimator block */\n",
       "\n",
       "#sk-container-id-10 div.sk-serial {\n",
       "  display: flex;\n",
       "  flex-direction: column;\n",
       "  align-items: center;\n",
       "  background-color: var(--sklearn-color-background);\n",
       "  padding-right: 1em;\n",
       "  padding-left: 1em;\n",
       "}\n",
       "\n",
       "\n",
       "/* Toggleable style: style used for estimator/Pipeline/ColumnTransformer box that is\n",
       "clickable and can be expanded/collapsed.\n",
       "- Pipeline and ColumnTransformer use this feature and define the default style\n",
       "- Estimators will overwrite some part of the style using the `sk-estimator` class\n",
       "*/\n",
       "\n",
       "/* Pipeline and ColumnTransformer style (default) */\n",
       "\n",
       "#sk-container-id-10 div.sk-toggleable {\n",
       "  /* Default theme specific background. It is overwritten whether we have a\n",
       "  specific estimator or a Pipeline/ColumnTransformer */\n",
       "  background-color: var(--sklearn-color-background);\n",
       "}\n",
       "\n",
       "/* Toggleable label */\n",
       "#sk-container-id-10 label.sk-toggleable__label {\n",
       "  cursor: pointer;\n",
       "  display: block;\n",
       "  width: 100%;\n",
       "  margin-bottom: 0;\n",
       "  padding: 0.5em;\n",
       "  box-sizing: border-box;\n",
       "  text-align: center;\n",
       "}\n",
       "\n",
       "#sk-container-id-10 label.sk-toggleable__label-arrow:before {\n",
       "  /* Arrow on the left of the label */\n",
       "  content: \"▸\";\n",
       "  float: left;\n",
       "  margin-right: 0.25em;\n",
       "  color: var(--sklearn-color-icon);\n",
       "}\n",
       "\n",
       "#sk-container-id-10 label.sk-toggleable__label-arrow:hover:before {\n",
       "  color: var(--sklearn-color-text);\n",
       "}\n",
       "\n",
       "/* Toggleable content - dropdown */\n",
       "\n",
       "#sk-container-id-10 div.sk-toggleable__content {\n",
       "  max-height: 0;\n",
       "  max-width: 0;\n",
       "  overflow: hidden;\n",
       "  text-align: left;\n",
       "  /* unfitted */\n",
       "  background-color: var(--sklearn-color-unfitted-level-0);\n",
       "}\n",
       "\n",
       "#sk-container-id-10 div.sk-toggleable__content.fitted {\n",
       "  /* fitted */\n",
       "  background-color: var(--sklearn-color-fitted-level-0);\n",
       "}\n",
       "\n",
       "#sk-container-id-10 div.sk-toggleable__content pre {\n",
       "  margin: 0.2em;\n",
       "  border-radius: 0.25em;\n",
       "  color: var(--sklearn-color-text);\n",
       "  /* unfitted */\n",
       "  background-color: var(--sklearn-color-unfitted-level-0);\n",
       "}\n",
       "\n",
       "#sk-container-id-10 div.sk-toggleable__content.fitted pre {\n",
       "  /* unfitted */\n",
       "  background-color: var(--sklearn-color-fitted-level-0);\n",
       "}\n",
       "\n",
       "#sk-container-id-10 input.sk-toggleable__control:checked~div.sk-toggleable__content {\n",
       "  /* Expand drop-down */\n",
       "  max-height: 200px;\n",
       "  max-width: 100%;\n",
       "  overflow: auto;\n",
       "}\n",
       "\n",
       "#sk-container-id-10 input.sk-toggleable__control:checked~label.sk-toggleable__label-arrow:before {\n",
       "  content: \"▾\";\n",
       "}\n",
       "\n",
       "/* Pipeline/ColumnTransformer-specific style */\n",
       "\n",
       "#sk-container-id-10 div.sk-label input.sk-toggleable__control:checked~label.sk-toggleable__label {\n",
       "  color: var(--sklearn-color-text);\n",
       "  background-color: var(--sklearn-color-unfitted-level-2);\n",
       "}\n",
       "\n",
       "#sk-container-id-10 div.sk-label.fitted input.sk-toggleable__control:checked~label.sk-toggleable__label {\n",
       "  background-color: var(--sklearn-color-fitted-level-2);\n",
       "}\n",
       "\n",
       "/* Estimator-specific style */\n",
       "\n",
       "/* Colorize estimator box */\n",
       "#sk-container-id-10 div.sk-estimator input.sk-toggleable__control:checked~label.sk-toggleable__label {\n",
       "  /* unfitted */\n",
       "  background-color: var(--sklearn-color-unfitted-level-2);\n",
       "}\n",
       "\n",
       "#sk-container-id-10 div.sk-estimator.fitted input.sk-toggleable__control:checked~label.sk-toggleable__label {\n",
       "  /* fitted */\n",
       "  background-color: var(--sklearn-color-fitted-level-2);\n",
       "}\n",
       "\n",
       "#sk-container-id-10 div.sk-label label.sk-toggleable__label,\n",
       "#sk-container-id-10 div.sk-label label {\n",
       "  /* The background is the default theme color */\n",
       "  color: var(--sklearn-color-text-on-default-background);\n",
       "}\n",
       "\n",
       "/* On hover, darken the color of the background */\n",
       "#sk-container-id-10 div.sk-label:hover label.sk-toggleable__label {\n",
       "  color: var(--sklearn-color-text);\n",
       "  background-color: var(--sklearn-color-unfitted-level-2);\n",
       "}\n",
       "\n",
       "/* Label box, darken color on hover, fitted */\n",
       "#sk-container-id-10 div.sk-label.fitted:hover label.sk-toggleable__label.fitted {\n",
       "  color: var(--sklearn-color-text);\n",
       "  background-color: var(--sklearn-color-fitted-level-2);\n",
       "}\n",
       "\n",
       "/* Estimator label */\n",
       "\n",
       "#sk-container-id-10 div.sk-label label {\n",
       "  font-family: monospace;\n",
       "  font-weight: bold;\n",
       "  display: inline-block;\n",
       "  line-height: 1.2em;\n",
       "}\n",
       "\n",
       "#sk-container-id-10 div.sk-label-container {\n",
       "  text-align: center;\n",
       "}\n",
       "\n",
       "/* Estimator-specific */\n",
       "#sk-container-id-10 div.sk-estimator {\n",
       "  font-family: monospace;\n",
       "  border: 1px dotted var(--sklearn-color-border-box);\n",
       "  border-radius: 0.25em;\n",
       "  box-sizing: border-box;\n",
       "  margin-bottom: 0.5em;\n",
       "  /* unfitted */\n",
       "  background-color: var(--sklearn-color-unfitted-level-0);\n",
       "}\n",
       "\n",
       "#sk-container-id-10 div.sk-estimator.fitted {\n",
       "  /* fitted */\n",
       "  background-color: var(--sklearn-color-fitted-level-0);\n",
       "}\n",
       "\n",
       "/* on hover */\n",
       "#sk-container-id-10 div.sk-estimator:hover {\n",
       "  /* unfitted */\n",
       "  background-color: var(--sklearn-color-unfitted-level-2);\n",
       "}\n",
       "\n",
       "#sk-container-id-10 div.sk-estimator.fitted:hover {\n",
       "  /* fitted */\n",
       "  background-color: var(--sklearn-color-fitted-level-2);\n",
       "}\n",
       "\n",
       "/* Specification for estimator info (e.g. \"i\" and \"?\") */\n",
       "\n",
       "/* Common style for \"i\" and \"?\" */\n",
       "\n",
       ".sk-estimator-doc-link,\n",
       "a:link.sk-estimator-doc-link,\n",
       "a:visited.sk-estimator-doc-link {\n",
       "  float: right;\n",
       "  font-size: smaller;\n",
       "  line-height: 1em;\n",
       "  font-family: monospace;\n",
       "  background-color: var(--sklearn-color-background);\n",
       "  border-radius: 1em;\n",
       "  height: 1em;\n",
       "  width: 1em;\n",
       "  text-decoration: none !important;\n",
       "  margin-left: 1ex;\n",
       "  /* unfitted */\n",
       "  border: var(--sklearn-color-unfitted-level-1) 1pt solid;\n",
       "  color: var(--sklearn-color-unfitted-level-1);\n",
       "}\n",
       "\n",
       ".sk-estimator-doc-link.fitted,\n",
       "a:link.sk-estimator-doc-link.fitted,\n",
       "a:visited.sk-estimator-doc-link.fitted {\n",
       "  /* fitted */\n",
       "  border: var(--sklearn-color-fitted-level-1) 1pt solid;\n",
       "  color: var(--sklearn-color-fitted-level-1);\n",
       "}\n",
       "\n",
       "/* On hover */\n",
       "div.sk-estimator:hover .sk-estimator-doc-link:hover,\n",
       ".sk-estimator-doc-link:hover,\n",
       "div.sk-label-container:hover .sk-estimator-doc-link:hover,\n",
       ".sk-estimator-doc-link:hover {\n",
       "  /* unfitted */\n",
       "  background-color: var(--sklearn-color-unfitted-level-3);\n",
       "  color: var(--sklearn-color-background);\n",
       "  text-decoration: none;\n",
       "}\n",
       "\n",
       "div.sk-estimator.fitted:hover .sk-estimator-doc-link.fitted:hover,\n",
       ".sk-estimator-doc-link.fitted:hover,\n",
       "div.sk-label-container:hover .sk-estimator-doc-link.fitted:hover,\n",
       ".sk-estimator-doc-link.fitted:hover {\n",
       "  /* fitted */\n",
       "  background-color: var(--sklearn-color-fitted-level-3);\n",
       "  color: var(--sklearn-color-background);\n",
       "  text-decoration: none;\n",
       "}\n",
       "\n",
       "/* Span, style for the box shown on hovering the info icon */\n",
       ".sk-estimator-doc-link span {\n",
       "  display: none;\n",
       "  z-index: 9999;\n",
       "  position: relative;\n",
       "  font-weight: normal;\n",
       "  right: .2ex;\n",
       "  padding: .5ex;\n",
       "  margin: .5ex;\n",
       "  width: min-content;\n",
       "  min-width: 20ex;\n",
       "  max-width: 50ex;\n",
       "  color: var(--sklearn-color-text);\n",
       "  box-shadow: 2pt 2pt 4pt #999;\n",
       "  /* unfitted */\n",
       "  background: var(--sklearn-color-unfitted-level-0);\n",
       "  border: .5pt solid var(--sklearn-color-unfitted-level-3);\n",
       "}\n",
       "\n",
       ".sk-estimator-doc-link.fitted span {\n",
       "  /* fitted */\n",
       "  background: var(--sklearn-color-fitted-level-0);\n",
       "  border: var(--sklearn-color-fitted-level-3);\n",
       "}\n",
       "\n",
       ".sk-estimator-doc-link:hover span {\n",
       "  display: block;\n",
       "}\n",
       "\n",
       "/* \"?\"-specific style due to the `<a>` HTML tag */\n",
       "\n",
       "#sk-container-id-10 a.estimator_doc_link {\n",
       "  float: right;\n",
       "  font-size: 1rem;\n",
       "  line-height: 1em;\n",
       "  font-family: monospace;\n",
       "  background-color: var(--sklearn-color-background);\n",
       "  border-radius: 1rem;\n",
       "  height: 1rem;\n",
       "  width: 1rem;\n",
       "  text-decoration: none;\n",
       "  /* unfitted */\n",
       "  color: var(--sklearn-color-unfitted-level-1);\n",
       "  border: var(--sklearn-color-unfitted-level-1) 1pt solid;\n",
       "}\n",
       "\n",
       "#sk-container-id-10 a.estimator_doc_link.fitted {\n",
       "  /* fitted */\n",
       "  border: var(--sklearn-color-fitted-level-1) 1pt solid;\n",
       "  color: var(--sklearn-color-fitted-level-1);\n",
       "}\n",
       "\n",
       "/* On hover */\n",
       "#sk-container-id-10 a.estimator_doc_link:hover {\n",
       "  /* unfitted */\n",
       "  background-color: var(--sklearn-color-unfitted-level-3);\n",
       "  color: var(--sklearn-color-background);\n",
       "  text-decoration: none;\n",
       "}\n",
       "\n",
       "#sk-container-id-10 a.estimator_doc_link.fitted:hover {\n",
       "  /* fitted */\n",
       "  background-color: var(--sklearn-color-fitted-level-3);\n",
       "}\n",
       "</style><div id=\"sk-container-id-10\" class=\"sk-top-container\"><div class=\"sk-text-repr-fallback\"><pre>LogisticRegression(max_iter=1500)</pre><b>In a Jupyter environment, please rerun this cell to show the HTML representation or trust the notebook. <br />On GitHub, the HTML representation is unable to render, please try loading this page with nbviewer.org.</b></div><div class=\"sk-container\" hidden><div class=\"sk-item\"><div class=\"sk-estimator fitted sk-toggleable\"><input class=\"sk-toggleable__control sk-hidden--visually\" id=\"sk-estimator-id-10\" type=\"checkbox\" checked><label for=\"sk-estimator-id-10\" class=\"sk-toggleable__label fitted sk-toggleable__label-arrow fitted\">&nbsp;&nbsp;LogisticRegression<a class=\"sk-estimator-doc-link fitted\" rel=\"noreferrer\" target=\"_blank\" href=\"https://scikit-learn.org/1.4/modules/generated/sklearn.linear_model.LogisticRegression.html\">?<span>Documentation for LogisticRegression</span></a><span class=\"sk-estimator-doc-link fitted\">i<span>Fitted</span></span></label><div class=\"sk-toggleable__content fitted\"><pre>LogisticRegression(max_iter=1500)</pre></div> </div></div></div></div>"
      ]
     },
     "execution_count": 267,
     "metadata": {},
     "output_type": "execute_result"
    }
   ],
   "execution_count": 267
  },
  {
   "metadata": {},
   "cell_type": "markdown",
   "source": "## Model Evaluation",
   "id": "79bf91454d051d0a"
  },
  {
   "metadata": {
    "ExecuteTime": {
     "end_time": "2024-08-02T01:50:46.157509Z",
     "start_time": "2024-08-02T01:50:45.936114Z"
    }
   },
   "cell_type": "code",
   "source": [
    "from sklearn.metrics import accuracy_score, confusion_matrix, classification_report\n",
    "\n",
    "y_pred = model.predict(X_test_vectorized)\n",
    "train_accuracy = accuracy_score(y_train, model.predict(X_train_scaled))\n",
    "test_accuracy = accuracy_score(y_test, y_pred)\n",
    "print(f'Training Accuracy: {train_accuracy * 100:.2f}%')\n",
    "print(f'Testing Accuracy: {test_accuracy * 100:.2f}%')\n",
    "\n",
    "# Confusion Matrix\n",
    "conf_matrix = confusion_matrix(y_test, y_pred)\n",
    "print(\"Confusion Matrix:\")\n",
    "print(conf_matrix)\n",
    "\n",
    "# Classification Report\n",
    "class_report = classification_report(y_test, y_pred)\n",
    "print(\"Classification Report:\")\n",
    "print(class_report)"
   ],
   "id": "7a09c2a0d232f1bb",
   "outputs": [
    {
     "name": "stdout",
     "output_type": "stream",
     "text": [
      "Training Accuracy: 79.88%\n",
      "Testing Accuracy: 87.97%\n",
      "Confusion Matrix:\n",
      "[[ 1221   131    58    43     9]\n",
      " [  107  1753   188   110    18]\n",
      " [   70   182  5328   880   145]\n",
      " [   26    55   582 24259  2619]\n",
      " [    9    15   170  3496 32610]]\n",
      "Classification Report:\n",
      "              precision    recall  f1-score   support\n",
      "\n",
      "         1.0       0.85      0.84      0.84      1462\n",
      "         2.0       0.82      0.81      0.81      2176\n",
      "         3.0       0.84      0.81      0.82      6605\n",
      "         4.0       0.84      0.88      0.86     27541\n",
      "         5.0       0.92      0.90      0.91     36300\n",
      "\n",
      "    accuracy                           0.88     74084\n",
      "   macro avg       0.86      0.85      0.85     74084\n",
      "weighted avg       0.88      0.88      0.88     74084\n",
      "\n"
     ]
    }
   ],
   "execution_count": 268
  }
 ],
 "metadata": {
  "kernelspec": {
   "display_name": "Python 3",
   "language": "python",
   "name": "python3"
  },
  "language_info": {
   "codemirror_mode": {
    "name": "ipython",
    "version": 2
   },
   "file_extension": ".py",
   "mimetype": "text/x-python",
   "name": "python",
   "nbconvert_exporter": "python",
   "pygments_lexer": "ipython2",
   "version": "2.7.6"
  }
 },
 "nbformat": 4,
 "nbformat_minor": 5
}
